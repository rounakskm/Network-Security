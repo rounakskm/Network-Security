{
 "cells": [
  {
   "cell_type": "markdown",
   "metadata": {},
   "source": [
    "#  Tutorial of Cryptography in Python\n",
    "\n",
    "#### Guevara Noubir & Amirali Sanatinia\n",
    "##### Network Security (CS 6740)\n",
    "\n",
    "\n",
    "There are a number of crypto libraries in Python, (cryptography, pycrypto, m2crypto). This tutorial provides an overview of the cryptography library used in the CS 6740 Network Security course. You can download the library from [here](https://cryptography.io/) and follow the instructions. You should be able to install the library using the following command: \n",
    "\n",
    "```bash\n",
    "pip install cryptography\n",
    "```\n",
    "\n",
    "Note that you need to have pip installed. To install pip, follow the instructions [here](https://pip.pypa.io/)\n",
    "\n",
    "*note: Each code block has extra imports, so that blocks would be independent runnable code*"
   ]
  },
  {
   "cell_type": "markdown",
   "metadata": {},
   "source": [
    "## Cyrptography.io\n",
    "Cryptography components are divided into different submodules. Following is a list of these submodules (not exhaustive)\n",
    "\n",
    "* Primitive Crypto Blocks (*cryptography.hazmat*)\n",
    " * Message Digest and Hashing algorithms (*cryptography.hazmat.primitives.hashes*)\n",
    " * Symmetric encryption algorithms (*cryptography.hazmat.primitives.ciphers*)\n",
    " * Asymmetric encryption algorithms (*cryptography.hazmat.primitives.asymmetric*)\n",
    "* X.509 Ecosystem (*cryptography.x509*)\n",
    "* Full high level crypto recipe (*cryptography.fernet*)\n",
    "\n",
    "\n",
    "## Hashing Algorithms\n",
    "\n",
    "As we discussed in class, the goal is to have a long message as input and produce an output which is much shorter called the hash or message digest. Furthermore, we want it to have properties such as pre-image, second preimage, and  collision resistance. *SHA* is a family of popular hash functions.\n",
    "\n",
    "\n",
    "### Note on MD5\n",
    "\n",
    "MD5 is hashing algorithm with block size of 512 bits, and digest size of 128 bit. It was designed by Ron Rivest in 1991. MD5 is considered insecure these days, and it is highly advised **not to be used in security systems**."
   ]
  },
  {
   "cell_type": "code",
   "execution_count": 6,
   "metadata": {
    "collapsed": false
   },
   "outputs": [],
   "source": [
    "from cryptography.hazmat.backends import default_backend\n",
    "from cryptography.hazmat.primitives import hashes\n",
    "import base64\n",
    "digest = hashes.Hash(hashes.MD5(), backend=default_backend())\n",
    "digest.update(b\"Network-\")\n",
    "digest.update(b\"Security\")\n",
    "msg_digest = digest.finalize()"
   ]
  },
  {
   "cell_type": "code",
   "execution_count": 7,
   "metadata": {
    "collapsed": false
   },
   "outputs": [
    {
     "name": "stdout",
     "output_type": "stream",
     "text": [
      "MD5 16 128 E1H/skhgUUbeeDc3yw3hzA==\n"
     ]
    }
   ],
   "source": [
    "# Notice the output size of the digest\n",
    "print \"MD5\", len(msg_digest), len(msg_digest) * 8, base64.b64encode(msg_digest)"
   ]
  },
  {
   "cell_type": "code",
   "execution_count": 8,
   "metadata": {
    "collapsed": false
   },
   "outputs": [
    {
     "name": "stdout",
     "output_type": "stream",
     "text": [
      "MD5 16 128 E1H/skhgUUbeeDc3yw3hzA==\n",
      "But you should not use MD5!!!\n"
     ]
    }
   ],
   "source": [
    "digest = hashes.Hash(hashes.MD5(), backend=default_backend())\n",
    "digest.update(b\"Network-Security\")\n",
    "msg_digest = digest.finalize()\n",
    "print \"MD5\", len(msg_digest), len(msg_digest) * 8, base64.b64encode(msg_digest)\n",
    "print \"But you should not use MD5!!!\""
   ]
  },
  {
   "cell_type": "markdown",
   "metadata": {
    "collapsed": false
   },
   "source": [
    "### SHA Family\n",
    "\n",
    "Secure Hash Algorithm (SHA) family, is a series of hashing algorithms. Ranging from SHA-0 to SHA-3. SHA-0 should never be used, it's advised to move away from SHA-1 to SHA-2. Recent research indicates that SHA-1 can be broken. SHA-3 is the most recent version, published in 2015.\n",
    "\n",
    " * SHA-1: Digest size (160), Block size (512)\n",
    " * SHA-2: Digest size (224, 256, 384, or 512), Block size (512, 1024)\n",
    " * SHA-3: Digest size (224, 256, 384, 512), Block size (1600)"
   ]
  },
  {
   "cell_type": "code",
   "execution_count": 9,
   "metadata": {
    "collapsed": false
   },
   "outputs": [
    {
     "name": "stdout",
     "output_type": "stream",
     "text": [
      "sha1 20 160\n",
      "ATPICo0ENcTzZ1vmAr5VjyGp3fc=\n",
      "sha224 28 224\n",
      "Pc2ov/Z4kilAF/OCMwMSZxwS5mEXS2dGICUyMA==\n",
      "sha256 32 256\n",
      "PvJR9wKGlcUYLlLuNzP0TSMAy1LAxzHuxmdN83hqWp4=\n",
      "sha384 48 384\n",
      "uWpuqle10ToNwLnyVZ6bzH4zFW/EbGufxlteawcX3Mhl/ZJhDo8u+vUfXRC+YcXg\n",
      "sha512 64 512\n",
      "4KUZlHssw0w4NVVifjaVP/IRg7Rs8OtDEMZi4lBK08d00ywYoG7Q7Z1fe1cmRlNuGxitTabbuzppbR5XWxHAmA==\n"
     ]
    }
   ],
   "source": [
    "for _hash in [hashes.SHA1, hashes.SHA224, hashes.SHA256, hashes.SHA384, hashes.SHA512]:\n",
    "    digest = hashes.Hash(_hash(), backend=default_backend())\n",
    "    digest.update(b\"Network-\")\n",
    "    digest.update(b\"Security\")\n",
    "    msg_digest = digest.finalize()\n",
    "    # Notice the output size of the digest\n",
    "    print _hash.name, len(msg_digest), len(msg_digest) * 8\n",
    "    print base64.b64encode(msg_digest)"
   ]
  },
  {
   "cell_type": "code",
   "execution_count": 10,
   "metadata": {
    "collapsed": false
   },
   "outputs": [],
   "source": [
    "digest = hashes.Hash(hashes.SHA256(), backend=default_backend())\n",
    "digest.update(b\"Network-Security\")\n",
    "msg_digest = digest.finalize()"
   ]
  },
  {
   "cell_type": "code",
   "execution_count": 11,
   "metadata": {
    "collapsed": false
   },
   "outputs": [
    {
     "name": "stdout",
     "output_type": "stream",
     "text": [
      "PvJR9wKGlcUYLlLuNzP0TSMAy1LAxzHuxmdN83hqWp4=\n"
     ]
    }
   ],
   "source": [
    "print base64.b64encode(msg_digest)"
   ]
  },
  {
   "cell_type": "markdown",
   "metadata": {
    "collapsed": false
   },
   "source": [
    "### Hash-based message authentication code (HMAC)\n",
    "\n",
    "HMAC is used for message authentications combined with a secret key. It provides integrity check and authentication.\n",
    "\n",
    "<img src=\"include/SHAhmac.png\">\n",
    "\n",
    "image source: wikipedia"
   ]
  },
  {
   "cell_type": "code",
   "execution_count": 12,
   "metadata": {
    "collapsed": false
   },
   "outputs": [
    {
     "name": "stdout",
     "output_type": "stream",
     "text": [
      "sha224 28 224 lS1rWHXZGUVZSAHUqfmZEtdPOo35Z9hrfZuMHQ==\n",
      "sha256 32 256 k/4xQ1Dmrva6dQXQe1RNxu7BUJNkbNEb5tJXQF2/8XE=\n",
      "sha384 48 384 PA/LFQzdfEYmcYg0zzdT9IALEEYjhe/Ct/HKaSIxwxrbXoEjAEzdDx+6h4QDfdBZ\n",
      "sha512 64 512 YVe1VIX5H2+XnBgPHtkdXH+Kv4mwwfLxX+4euwTueq605406NaBaEyMQ3oQVbnvhFz/dwV7l25WZNyF5HmKkiQ==\n"
     ]
    }
   ],
   "source": [
    "from cryptography.hazmat.backends import default_backend\n",
    "from cryptography.hazmat.primitives import hashes, hmac\n",
    "import os\n",
    "for _hash in [hashes.SHA224, hashes.SHA256, hashes.SHA384, hashes.SHA512]:\n",
    "    h = hmac.HMAC(os.urandom(16), _hash(), backend=default_backend())\n",
    "    h.update(\"Network Security\")\n",
    "    msg_digest = h.finalize()\n",
    "    print _hash.name, len(msg_digest), len(msg_digest) * 8, base64.b64encode(msg_digest)"
   ]
  },
  {
   "cell_type": "markdown",
   "metadata": {},
   "source": [
    "## Symmetric Encryption\n",
    "\n",
    "In the following we look at the symmetric encryption algorithms. In symmetric crpto, we use the same key for encryption and decryption. Therefore, the two parties needs to establish a secret key between them. It's up to 1000 times faster than asymmetric encryption.\n",
    "\n",
    "\n",
    "### Advanced Encryption Algorithm (AES)\n",
    "\n",
    "AES is based on Rijndael encryption algorithm, designed by Joan Daemen and Vincent Rijmen. It was one of the algorithms submitted to U.S. National Institute of Standards and Technology (NIST) to replace DES and 3DES. It was published in 1998 and accepted and standardized in 2001.\n",
    "\n",
    " * AES supports key sizes of 128/192/256 bits\n",
    " * Block size: 128 bit\n",
    " * It's iterative rather than Feistel cipher\n",
    " * Treats data in 4 groups of 4 bytes\n",
    " * Operates on an entire block in every round\n",
    " * Resistant against known attacks\n",
    " * Speed and code compactness on many CPUs\n",
    " * Rijndael block and key size vary between 128, 192, 256\n",
    " * However, in AES block size in 128\n",
    " * Number of rounds a function of key size\n",
    "  * 128 bits     10 rounds\n",
    "  * 192 bits     12 rounds\n",
    "  * 256 bits     14 rounds\n",
    "\n",
    " * Today most implementations use the CPU support (Intel AES-NI)"
   ]
  },
  {
   "cell_type": "markdown",
   "metadata": {
    "collapsed": true
   },
   "source": [
    "### Block cipher mode of operation\n",
    "\n",
    "To encrypt messages of arbitrary size with block ciphers, we use the following algorithms, called the modes of operation. They define how to encrypt each block of the plaintext to produce the corresponding cipher text block. Some of these are complemetly insecure (ECB) and should not be used.\n",
    "\n",
    " * Electronic Codebook (ECB)\n",
    " * Cipher Block Chaining (CBC)\n",
    " * Cipher Feedback (CFB)\n",
    " * Output Feedback (OFB)\n",
    " * Counter (CTR)\n",
    " * Galois Counter Mode (GCM)\n",
    " \n",
    " \n",
    "### Electronic Codebook (ECB)\n",
    "\n",
    "<img src=\"include/ECB_enc.png\">\n",
    "<img src=\"include/ECB_dec.png\">\n",
    "\n",
    "\n",
    "\n",
    "### Cipher Block Chaining (CBC)\n",
    "\n",
    "<img src=\"include/CBC_enc.png\">\n",
    "<img src=\"include/CBC_dec.png\">\n",
    "\n",
    "\n",
    "\n",
    "### Counter (CTR)\n",
    "\n",
    "<img src=\"include/CTR_enc.png\">\n",
    "<img src=\"include/CTR_dec.png\">\n",
    "\n",
    "image source: wikipedia\n",
    "\n",
    "The following images are encrypted with ECB. Note that you can see the pattern in the data. Therefore, ECB is not secure or recommended to be used.\n",
    "\n",
    "<img src=\"include/tux.png\">\n",
    "<img src=\"include/ECB1.png\">\n",
    "<img src=\"include/ECB2.png\">"
   ]
  },
  {
   "cell_type": "code",
   "execution_count": 13,
   "metadata": {
    "collapsed": false
   },
   "outputs": [],
   "source": [
    "import os\n",
    "from cryptography.hazmat.primitives.ciphers import Cipher, algorithms, modes\n",
    "from cryptography.hazmat.backends import default_backend\n",
    "key = os.urandom(16) # in bytes, 128 bits\n",
    "iv = os.urandom(16)"
   ]
  },
  {
   "cell_type": "code",
   "execution_count": 14,
   "metadata": {
    "collapsed": false
   },
   "outputs": [
    {
     "name": "stdout",
     "output_type": "stream",
     "text": [
      "w8SpzrubOt4x53egL788i3z+7uYxOVsjY0rhlXFD6Co=\n"
     ]
    }
   ],
   "source": [
    "# ECB Mode, we only need a key\n",
    "### *** DO NOT ECB. IT IS INSECURE *** ###\n",
    "\n",
    "cipher = Cipher(algorithms.AES(key), modes.ECB(), backend=default_backend())\n",
    "encryptor = cipher.encryptor()\n",
    "# note that we don't need padding here, since len(\"Network Security\") = 16\n",
    "cipher_text = encryptor.update(\"Network Security1234567890123456\") + encryptor.finalize()\n",
    "print base64.b64encode(cipher_text)"
   ]
  },
  {
   "cell_type": "markdown",
   "metadata": {
    "collapsed": false
   },
   "source": [
    "###### cipher = Cipher(algorithms.AES(key), modes.ECB(), backend=default_backend())\n",
    "encryptor = cipher.encryptor()\n",
    "ct1 = encryptor.update(\"Network Security1234567890123457\")\n",
    "encryptor.finalize()\n",
    "print base64.b64encode(ct1)"
   ]
  },
  {
   "cell_type": "code",
   "execution_count": 15,
   "metadata": {
    "collapsed": false
   },
   "outputs": [
    {
     "data": {
      "text/plain": [
       "'Network Security1234567890123456'"
      ]
     },
     "execution_count": 15,
     "metadata": {},
     "output_type": "execute_result"
    }
   ],
   "source": [
    "decryptor = cipher.decryptor()\n",
    "decryptor.update(cipher_text) + decryptor.finalize()"
   ]
  },
  {
   "cell_type": "code",
   "execution_count": 16,
   "metadata": {
    "collapsed": false
   },
   "outputs": [],
   "source": [
    "# CBC Mode, we also need an IV\n",
    "cipher = Cipher(algorithms.AES(key), modes.CBC(iv), backend=default_backend())\n",
    "encryptor = cipher.encryptor()\n",
    "# note that we don't need padding here, since len(\"Network Security\") = 16\n",
    "cipher_text = encryptor.update(\"Network Security\") + encryptor.finalize()"
   ]
  },
  {
   "cell_type": "code",
   "execution_count": 17,
   "metadata": {
    "collapsed": false
   },
   "outputs": [
    {
     "data": {
      "text/plain": [
       "'B72TD81N8szP3b6g2t+anw=='"
      ]
     },
     "execution_count": 17,
     "metadata": {},
     "output_type": "execute_result"
    }
   ],
   "source": [
    "base64.b64encode(cipher_text)"
   ]
  },
  {
   "cell_type": "code",
   "execution_count": 18,
   "metadata": {
    "collapsed": false
   },
   "outputs": [
    {
     "data": {
      "text/plain": [
       "'Network Security'"
      ]
     },
     "execution_count": 18,
     "metadata": {},
     "output_type": "execute_result"
    }
   ],
   "source": [
    "decryptor = cipher.decryptor()\n",
    "decryptor.update(cipher_text) + decryptor.finalize()"
   ]
  },
  {
   "cell_type": "code",
   "execution_count": 19,
   "metadata": {
    "collapsed": false
   },
   "outputs": [],
   "source": [
    "# GCM Mode, we also need an IV\n",
    "cipher = Cipher(algorithms.AES(key), modes.GCM(iv), backend=default_backend())\n",
    "encryptor = cipher.encryptor()\n",
    "# note that we don't need padding here, since len(\"Network Security\") = 16\n",
    "encryptor.authenticate_additional_data(b\"Only authenticate\")\n",
    "cipher_text = encryptor.update(\"Network Security\") + encryptor.finalize()\n",
    "tag = encryptor.tag"
   ]
  },
  {
   "cell_type": "code",
   "execution_count": 20,
   "metadata": {
    "collapsed": false
   },
   "outputs": [
    {
     "data": {
      "text/plain": [
       "'nUx6hpK2zTf99w0geIkyUA=='"
      ]
     },
     "execution_count": 20,
     "metadata": {},
     "output_type": "execute_result"
    }
   ],
   "source": [
    "base64.b64encode(cipher_text)"
   ]
  },
  {
   "cell_type": "code",
   "execution_count": 21,
   "metadata": {
    "collapsed": false
   },
   "outputs": [
    {
     "data": {
      "text/plain": [
       "''"
      ]
     },
     "execution_count": 21,
     "metadata": {},
     "output_type": "execute_result"
    }
   ],
   "source": [
    "decryptor = Cipher(algorithms.AES(key), modes.GCM(iv,tag), backend=default_backend()).decryptor()\n",
    "decryptor.authenticate_additional_data(b\"Only authenticate\")\n",
    "decryptor.update(cipher_text) \n",
    "decryptor.finalize()"
   ]
  },
  {
   "cell_type": "code",
   "execution_count": 22,
   "metadata": {
    "collapsed": false
   },
   "outputs": [],
   "source": [
    "# CTR Mode, we don't need padding in CTR mode. In transforms a block cipher into a stream cipher\n",
    "# we only need to introduce the nonce\n",
    "cipher = Cipher(algorithms.AES(key), modes.CTR(os.urandom(16)), backend=default_backend())\n",
    "encryptor = cipher.encryptor()\n",
    "# len(\"Network Security CS 6740\") = 25, but no padding is needed\n",
    "cipher_text = encryptor.update(\"Network Security CS(6740)\") + encryptor.finalize()"
   ]
  },
  {
   "cell_type": "code",
   "execution_count": 23,
   "metadata": {
    "collapsed": false
   },
   "outputs": [
    {
     "data": {
      "text/plain": [
       "'Y2J/YJ68QALIOcZw3r2PcdzsiA0RQ1rGXQ=='"
      ]
     },
     "execution_count": 23,
     "metadata": {},
     "output_type": "execute_result"
    }
   ],
   "source": [
    "base64.b64encode(cipher_text)"
   ]
  },
  {
   "cell_type": "code",
   "execution_count": 24,
   "metadata": {
    "collapsed": false
   },
   "outputs": [
    {
     "data": {
      "text/plain": [
       "'Network Security CS(6740)'"
      ]
     },
     "execution_count": 24,
     "metadata": {},
     "output_type": "execute_result"
    }
   ],
   "source": [
    "decryptor = cipher.decryptor()\n",
    "decryptor.update(cipher_text) + decryptor.finalize()"
   ]
  },
  {
   "cell_type": "markdown",
   "metadata": {
    "collapsed": false
   },
   "source": [
    "## Asymmetric Encryption\n",
    "\n",
    "Asymmetric encryption mechanism use two different keys for encryption and decryption. Therefore, the two parties do not need to share a secret key between them.\n",
    "\n",
    "\n",
    "### RSA\n",
    "\n",
    "RSA, is an asymmetric encryption algorithm by Ron Rivest, Adi Shamir, and Leonard Adleman. It was published in 1977. It's security is based on the hardness of factorization problem. However, now it has its own problem, called the RSA problem. RSA is slow, and is not used for encryptin large data, but it's mostly used to encrypt the symmetric key that is used for encryption.\n",
    "\n",
    "\n",
    " * p, q, two big prime numbers (private, chosen)\n",
    " * n = pq, f(n) = (p-1)(q-1)   (public, calculated)\n",
    " * e, with gcd(f(n), e) = 1,  1 < e < f(n)\t(public, chosen)\n",
    " * d = e-1 mod f(n)\t(private, calculated)\n",
    " * $E(M) = M^e \\mod n$\n",
    " * $D(M) = M^d \\mod n$\n",
    " * $D(E(M)) = M^{ed} \\mod n = M$\n",
    " \n",
    " \n"
   ]
  },
  {
   "cell_type": "code",
   "execution_count": 25,
   "metadata": {
    "collapsed": false
   },
   "outputs": [],
   "source": [
    "# Generate a 2048 bit private key\n",
    "from cryptography.hazmat.backends import default_backend\n",
    "from cryptography.hazmat.primitives.asymmetric import rsa\n",
    "\n",
    "private_key = rsa.generate_private_key(\n",
    "    public_exponent=65537,\n",
    "    key_size=2048,\n",
    "    backend=default_backend())\n",
    "# to get the public key\n",
    "public_key = private_key.public_key()"
   ]
  },
  {
   "cell_type": "markdown",
   "metadata": {},
   "source": [
    "<img src=\"include/RSA_OAEP.png\">\n",
    "\n",
    "image souce: wikipedia"
   ]
  },
  {
   "cell_type": "code",
   "execution_count": 26,
   "metadata": {
    "collapsed": false
   },
   "outputs": [
    {
     "data": {
      "text/plain": [
       "'jK9YZmsIZK+lgBvleAv6Uym0SJTs44s6WbtwgU+Y9te+9aU1VvflgAAWu4rLYjAYO6QD8pL5ClhLhD3HGRljkBHEsSyYd8o/br1ASu0ivnLPR472DBWVEgi9tMtHglbH8leV2WdwNEHumdp8JmHDUzQ7wi8Pa1ITTt9x0IRorbTT8EmAprc8OD/PbJhXW5W9rP4+/Sy6CpAIBdwxlyoY1cPGh2kSlyzECgUWhy8zmDV2k6IMaZ/FhmBjDCUqbWGEvSPDc5ZU/8GsULLvc3f1I++uTU0LjkTZHHnMyZ3CI+VZfdRFSOSuv0d85SCA2Qz4GZ2GfeGlllzRGc8KUkwrXA=='"
      ]
     },
     "execution_count": 26,
     "metadata": {},
     "output_type": "execute_result"
    }
   ],
   "source": [
    "from cryptography.hazmat.backends import default_backend\n",
    "from cryptography.hazmat.primitives import hashes\n",
    "from cryptography.hazmat.primitives.asymmetric import padding\n",
    "\n",
    "message = b\"The SECRET MESSAGE\"\n",
    "ciphertext = public_key.encrypt(\n",
    "    message,\n",
    "    padding.OAEP(\n",
    "        mgf=padding.MGF1(algorithm=hashes.SHA256()),\n",
    "        algorithm=hashes.SHA256(),\n",
    "        label=None))\n",
    "base64.b64encode(ciphertext)"
   ]
  },
  {
   "cell_type": "code",
   "execution_count": 27,
   "metadata": {
    "collapsed": false
   },
   "outputs": [
    {
     "data": {
      "text/plain": [
       "'The SECRET MESSAGE'"
      ]
     },
     "execution_count": 27,
     "metadata": {},
     "output_type": "execute_result"
    }
   ],
   "source": [
    "from cryptography.hazmat.backends import default_backend\n",
    "from cryptography.hazmat.primitives import hashes\n",
    "from cryptography.hazmat.primitives.asymmetric import padding\n",
    "\n",
    "plaintext = private_key.decrypt(\n",
    "    ciphertext,\n",
    "    padding.OAEP(\n",
    "        mgf=padding.MGF1(algorithm=hashes.SHA256()),\n",
    "        algorithm=hashes.SHA256(),\n",
    "        label=None))\n",
    "plaintext"
   ]
  },
  {
   "cell_type": "code",
   "execution_count": 28,
   "metadata": {
    "collapsed": false
   },
   "outputs": [
    {
     "data": {
      "text/plain": [
       "True"
      ]
     },
     "execution_count": 28,
     "metadata": {},
     "output_type": "execute_result"
    }
   ],
   "source": [
    "plaintext == message"
   ]
  },
  {
   "cell_type": "markdown",
   "metadata": {},
   "source": [
    "### OpenSSL - RSA\n",
    "\n",
    "To generate keys, use the following instructions:\n",
    "\n",
    "```bash\n",
    " openssl genrsa -out private_key.pem 2048\n",
    " openssl pkcs8 -topk8 -inform PEM -outform DER -in private_key.pem -out private_key.der -nocrypt\n",
    " openssl rsa -in private_key.pem -pubout -outform DER -out public_key.der\n",
    " ```\n",
    " "
   ]
  },
  {
   "cell_type": "code",
   "execution_count": 29,
   "metadata": {
    "collapsed": false,
    "scrolled": true
   },
   "outputs": [
    {
     "name": "stderr",
     "output_type": "stream",
     "text": [
      "Generating RSA private key, 2048 bit long modulus\n",
      "..........................................................+++\n",
      "...+++\n",
      "e is 65537 (0x10001)\n",
      "writing RSA key\n"
     ]
    }
   ],
   "source": [
    "%%bash\n",
    "openssl genrsa -out private_key.pem 2048\n",
    "openssl pkcs8 -topk8 -inform PEM -outform DER -in private_key.pem -out private_key.der -nocrypt\n",
    "openssl rsa -in private_key.pem -pubout -outform DER -out public_key.der"
   ]
  },
  {
   "cell_type": "code",
   "execution_count": 30,
   "metadata": {
    "collapsed": true
   },
   "outputs": [],
   "source": [
    "# import key from a file. E.g., previously generated by OpenSSL\n",
    "from cryptography.hazmat.backends import default_backend\n",
    "from cryptography.hazmat.primitives import serialization\n",
    "\n",
    "with open(\"private_key.pem\", \"rb\") as key_file:\n",
    "     private_key = serialization.load_pem_private_key(\n",
    "            key_file.read(),\n",
    "            password=None,\n",
    "            backend=default_backend())\n",
    "public_key = private_key.public_key()"
   ]
  },
  {
   "cell_type": "markdown",
   "metadata": {
    "collapsed": true
   },
   "source": [
    "## Diffie-Hellman Key Agreement\n"
   ]
  },
  {
   "cell_type": "code",
   "execution_count": 31,
   "metadata": {
    "collapsed": true
   },
   "outputs": [],
   "source": [
    "# use Elleptic-Curve Crypto for efficiency (computation and keys size)\n",
    "from cryptography.hazmat.primitives.asymmetric import ec"
   ]
  },
  {
   "cell_type": "code",
   "execution_count": 33,
   "metadata": {
    "collapsed": false
   },
   "outputs": [],
   "source": [
    "# Generate our private key for use in the exchange.\n",
    "private_key = ec.generate_private_key(ec.SECP384R1(), default_backend())"
   ]
  },
  {
   "cell_type": "code",
   "execution_count": 34,
   "metadata": {
    "collapsed": false
   },
   "outputs": [],
   "source": [
    "# Get the public of the other side \n",
    "#  (here we generate it ourself but \n",
    "#    we should typically receive it from the other side)\n",
    "peer_private_key = ec.generate_private_key(ec.SECP384R1(), default_backend())\n",
    "peer_public_key = peer_private_key.public_key()"
   ]
  },
  {
   "cell_type": "code",
   "execution_count": 35,
   "metadata": {
    "collapsed": true
   },
   "outputs": [],
   "source": [
    "shared_key_us = private_key.exchange(ec.ECDH(), peer_public_key)"
   ]
  },
  {
   "cell_type": "code",
   "execution_count": 36,
   "metadata": {
    "collapsed": false
   },
   "outputs": [
    {
     "name": "stdout",
     "output_type": "stream",
     "text": [
      "UHu5OLd/tvmSKhC1WWG66Pr/vxkwszDyxMnrLzD8hNaJSqU27XV7bYMU927Z+bW8\n"
     ]
    }
   ],
   "source": [
    "print base64.b64encode(shared_key_us)\n"
   ]
  },
  {
   "cell_type": "markdown",
   "metadata": {},
   "source": [
    "#### Check that the peer computes the same ECDH key"
   ]
  },
  {
   "cell_type": "code",
   "execution_count": 37,
   "metadata": {
    "collapsed": false
   },
   "outputs": [],
   "source": [
    "shared_key_peer = peer_private_key.exchange(ec.ECDH(), private_key.public_key())"
   ]
  },
  {
   "cell_type": "code",
   "execution_count": 40,
   "metadata": {
    "collapsed": false
   },
   "outputs": [
    {
     "name": "stdout",
     "output_type": "stream",
     "text": [
      "UHu5OLd/tvmSKhC1WWG66Pr/vxkwszDyxMnrLzD8hNaJSqU27XV7bYMU927Z+bW8\n"
     ]
    }
   ],
   "source": [
    "print base64.b64encode(shared_key_peer)\n"
   ]
  },
  {
   "cell_type": "code",
   "execution_count": 42,
   "metadata": {
    "collapsed": false
   },
   "outputs": [
    {
     "data": {
      "text/plain": [
       "True"
      ]
     },
     "execution_count": 42,
     "metadata": {},
     "output_type": "execute_result"
    }
   ],
   "source": [
    "shared_key_us == shared_key_peer"
   ]
  },
  {
   "cell_type": "markdown",
   "metadata": {},
   "source": [
    "## Padding\n",
    "\n",
    "Padding can be necessary to use some of the cryptographic algorithms and modes"
   ]
  },
  {
   "cell_type": "code",
   "execution_count": 43,
   "metadata": {
    "collapsed": true
   },
   "outputs": [],
   "source": [
    "from cryptography.hazmat.primitives import padding"
   ]
  },
  {
   "cell_type": "code",
   "execution_count": 44,
   "metadata": {
    "collapsed": true
   },
   "outputs": [],
   "source": [
    "padder = padding.PKCS7(128).padder()"
   ]
  },
  {
   "cell_type": "code",
   "execution_count": 45,
   "metadata": {
    "collapsed": false
   },
   "outputs": [],
   "source": [
    "padded_data = padder.update(b\"1234567890123456\") + padder.finalize()"
   ]
  },
  {
   "cell_type": "code",
   "execution_count": 46,
   "metadata": {
    "collapsed": false
   },
   "outputs": [
    {
     "data": {
      "text/plain": [
       "'1234567890123456\\x10\\x10\\x10\\x10\\x10\\x10\\x10\\x10\\x10\\x10\\x10\\x10\\x10\\x10\\x10\\x10'"
      ]
     },
     "execution_count": 46,
     "metadata": {},
     "output_type": "execute_result"
    }
   ],
   "source": [
    "padded_data"
   ]
  },
  {
   "cell_type": "code",
   "execution_count": null,
   "metadata": {
    "collapsed": true
   },
   "outputs": [],
   "source": []
  }
 ],
 "metadata": {
  "kernelspec": {
   "display_name": "Python 2",
   "language": "python",
   "name": "python2"
  },
  "language_info": {
   "codemirror_mode": {
    "name": "ipython",
    "version": 2
   },
   "file_extension": ".py",
   "mimetype": "text/x-python",
   "name": "python",
   "nbconvert_exporter": "python",
   "pygments_lexer": "ipython2",
   "version": "2.7.10"
  }
 },
 "nbformat": 4,
 "nbformat_minor": 0
}
